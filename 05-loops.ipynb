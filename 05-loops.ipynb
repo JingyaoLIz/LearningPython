{
 "cells": [
  {
   "cell_type": "markdown",
   "id": "84363ed7-202c-4edc-9873-133ea1551f18",
   "metadata": {},
   "source": [
    "## Loops"
   ]
  },
  {
   "cell_type": "code",
   "execution_count": 1,
   "id": "46dea73e-d957-4706-b393-0dd9c87a8129",
   "metadata": {},
   "outputs": [
    {
     "name": "stdout",
     "output_type": "stream",
     "text": [
      "1\n",
      "3\n",
      "5\n",
      "7\n"
     ]
    }
   ],
   "source": [
    "odds = [1, 3, 5, 7]\n",
    "for num in odds:\n",
    "    print(num)"
   ]
  },
  {
   "cell_type": "code",
   "execution_count": 2,
   "id": "61f2af0a-6612-4c01-b6a5-a458714d1584",
   "metadata": {},
   "outputs": [
    {
     "name": "stdout",
     "output_type": "stream",
     "text": [
      "1\n",
      "3\n",
      "5\n",
      "7\n",
      "9\n",
      "11\n"
     ]
    }
   ],
   "source": [
    "odds = [1, 3, 5, 7, 9, 11]\n",
    "for banana in odds:\n",
    "    print(banana)"
   ]
  },
  {
   "cell_type": "code",
   "execution_count": 3,
   "id": "3b9b59bc-2903-41b2-96d8-d4f92af5b3f0",
   "metadata": {},
   "outputs": [
    {
     "name": "stdout",
     "output_type": "stream",
     "text": [
      "Curie\n",
      "Darwin\n",
      "Turing\n",
      "after the loop, name is Turing\n"
     ]
    }
   ],
   "source": [
    "name = 'Rosalind'\n",
    "for name in ['Curie', 'Darwin', 'Turing']:\n",
    "    print(name)\n",
    "print('after the loop, name is', name)"
   ]
  },
  {
   "cell_type": "code",
   "execution_count": 4,
   "id": "02c421b9-b593-4d50-ae1e-00173c1196f0",
   "metadata": {},
   "outputs": [
    {
     "name": "stdout",
     "output_type": "stream",
     "text": [
      "4\n"
     ]
    }
   ],
   "source": [
    "print(len([0, 1, 2, 3]))"
   ]
  },
  {
   "cell_type": "code",
   "execution_count": 5,
   "id": "c313d78a-c2a1-4a1a-aeb5-a6df61b5c8b7",
   "metadata": {},
   "outputs": [
    {
     "name": "stdout",
     "output_type": "stream",
     "text": [
      "o\n",
      "x\n",
      "y\n",
      "g\n",
      "e\n",
      "n\n"
     ]
    }
   ],
   "source": [
    "word = 'oxygen'\n",
    "for char in word:\n",
    "    print(char)"
   ]
  },
  {
   "cell_type": "code",
   "execution_count": 8,
   "id": "0934b8bb-a224-44a4-b8b5-7f2beed54a1b",
   "metadata": {},
   "outputs": [
    {
     "name": "stdout",
     "output_type": "stream",
     "text": [
      "125\n",
      "125\n"
     ]
    }
   ],
   "source": [
    "print(5 ** 3)  # Exponentiation\n",
    "\n",
    "result = 1\n",
    "for number in range(0, 3):\n",
    "    result = result * 5\n",
    "print(result)"
   ]
  },
  {
   "cell_type": "code",
   "execution_count": 13,
   "id": "fc934546-c28c-4dc8-8538-0669a0f15e99",
   "metadata": {},
   "outputs": [
    {
     "name": "stdout",
     "output_type": "stream",
     "text": [
      "0 2\n",
      "1 4\n",
      "2 3\n",
      "97\n"
     ]
    }
   ],
   "source": [
    "y = 0\n",
    "x = 5\n",
    "coefs = [2, 4, 3]\n",
    "for idx, coef in enumerate(coefs):\n",
    "    y = y + coef * x**idx\n",
    "    print(idx, coef)\n",
    "print(y)"
   ]
  },
  {
   "cell_type": "code",
   "execution_count": null,
   "id": "21c04b21-a80e-4eae-bd10-9a789a713dfd",
   "metadata": {},
   "outputs": [],
   "source": []
  }
 ],
 "metadata": {
  "kernelspec": {
   "display_name": "Python 3 (ipykernel)",
   "language": "python",
   "name": "python3"
  },
  "language_info": {
   "codemirror_mode": {
    "name": "ipython",
    "version": 3
   },
   "file_extension": ".py",
   "mimetype": "text/x-python",
   "name": "python",
   "nbconvert_exporter": "python",
   "pygments_lexer": "ipython3",
   "version": "3.9.12"
  }
 },
 "nbformat": 4,
 "nbformat_minor": 5
}
