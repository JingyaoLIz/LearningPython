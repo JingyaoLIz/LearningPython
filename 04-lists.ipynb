{
 "cells": [
  {
   "cell_type": "code",
   "execution_count": 1,
   "id": "54f78af3-a55e-4e7e-af4a-b67a7c68fa66",
   "metadata": {},
   "outputs": [
    {
     "name": "stdout",
     "output_type": "stream",
     "text": [
      "odds are: [1, 3, 5, 7]\n"
     ]
    }
   ],
   "source": [
    "odds = [1, 3, 5, 7] #no lib\n",
    "print('odds are:', odds)"
   ]
  },
  {
   "cell_type": "code",
   "execution_count": 9,
   "id": "8ac8dd2d-e5dd-47bd-b81d-c6e1fa6fc5e0",
   "metadata": {},
   "outputs": [
    {
     "name": "stdout",
     "output_type": "stream",
     "text": [
      "first element: 1\n",
      "last element: 7\n",
      "every second element in the list: [1, 5]\n"
     ]
    }
   ],
   "source": [
    "print('first element:', odds[0])\n",
    "print('last element:', odds[-1])\n",
    "print('every second element in the list:', odds[0::2])  #start from 0 position, contain each 2"
   ]
  },
  {
   "cell_type": "code",
   "execution_count": 3,
   "id": "c4e8eee2-70bd-4d7f-a1b1-81159e5b86bf",
   "metadata": {},
   "outputs": [
    {
     "name": "stdout",
     "output_type": "stream",
     "text": [
      "names is originally: ['Curie', 'Darwing', 'Turing']\n",
      "final value of names: ['Curie', 'Darwin', 'Turing']\n"
     ]
    }
   ],
   "source": [
    "names = ['Curie', 'Darwing', 'Turing']  # typo in Darwin's name\n",
    "print('names is originally:', names)\n",
    "names[1] = 'Darwin'  # correct the name, not work for individual characters in a string\n",
    "print('final value of names:', names)"
   ]
  },
  {
   "cell_type": "code",
   "execution_count": 4,
   "id": "6ffcefe6-ca65-4c17-be62-725b8582bbcd",
   "metadata": {},
   "outputs": [
    {
     "name": "stdout",
     "output_type": "stream",
     "text": [
      "Ingredients in my salsa: ['hot peppers', 'onions', 'cilantro', 'tomatoes']\n"
     ]
    }
   ],
   "source": [
    "salsa = ['peppers', 'onions', 'cilantro', 'tomatoes']\n",
    "my_salsa = salsa        # <-- my_salsa and salsa point to the *same* list data in memory\n",
    "salsa[0] = 'hot peppers'\n",
    "print('Ingredients in my salsa:', my_salsa)"
   ]
  },
  {
   "cell_type": "code",
   "execution_count": 10,
   "id": "9d874908-c8ce-4773-b028-058eb1f3b747",
   "metadata": {},
   "outputs": [
    {
     "name": "stdout",
     "output_type": "stream",
     "text": [
      "Ingredients in my salsa: ['peppers', 'onions', 'cilantro', 'tomatoes']\n"
     ]
    }
   ],
   "source": [
    "salsa = ['peppers', 'onions', 'cilantro', 'tomatoes']\n",
    "my_salsa = list(salsa)        # <-- makes a *copy* of the list\n",
    "salsa[0] = 'hot peppers'\n",
    "print('Ingredients in my salsa:', my_salsa)"
   ]
  },
  {
   "cell_type": "code",
   "execution_count": 12,
   "id": "bde039dc-eefa-4c1b-8491-ad088fbb6234",
   "metadata": {},
   "outputs": [
    {
     "name": "stdout",
     "output_type": "stream",
     "text": [
      "[['pepper', 'zucchini', 'onion']]\n",
      "['pepper', 'zucchini', 'onion']\n",
      "pepper\n"
     ]
    }
   ],
   "source": [
    "x = [['pepper', 'zucchini', 'onion'],\n",
    "     ['cabbage', 'lettuce', 'garlic'],\n",
    "     ['apple', 'pear', 'banana']]  ## list contain lists\n",
    "print([x[0]])\n",
    "print(x[0])\n",
    "print(x[0][0])"
   ]
  },
  {
   "cell_type": "code",
   "execution_count": 18,
   "id": "25d94b45-846c-4300-a13f-c11ff1a65c10",
   "metadata": {},
   "outputs": [
    {
     "name": "stdout",
     "output_type": "stream",
     "text": [
      "odds after adding a value: [3, 5, 7, 11]\n",
      "odds after removing the first element: [5, 7, 11]\n",
      "removed_element: 3\n",
      "None\n",
      "odds after reversing: [11, 7, 5]\n"
     ]
    }
   ],
   "source": [
    "sample_ages = [10, 12.5, 'Unknown'] # diff type elements\n",
    "\n",
    "odds.append(11) # add a value\n",
    "print('odds after adding a value:', odds)\n",
    "\n",
    "removed_element = odds.pop(0) # delete value in 0 pos\n",
    "print('odds after removing the first element:', odds)\n",
    "print('removed_element:', removed_element)\n",
    "\n",
    "print(odds.reverse())  # reverse list, no output\n",
    "print('odds after reversing:', odds)"
   ]
  },
  {
   "cell_type": "code",
   "execution_count": 14,
   "id": "b4e75acf-b7eb-4bef-8384-4cbc44e03412",
   "metadata": {},
   "outputs": [
    {
     "name": "stdout",
     "output_type": "stream",
     "text": [
      "primes: [3, 5, 7, 2]\n",
      "odds: [3, 5, 7, 2]\n",
      "primes: [3, 5, 7, 2]\n",
      "odds: [3, 5, 7]\n"
     ]
    }
   ],
   "source": [
    "odds = [3, 5, 7]\n",
    "primes = odds  # refer to the same list\n",
    "primes.append(2)\n",
    "print('primes:', primes)\n",
    "print('odds:', odds)\n",
    "\n",
    "odds = [3, 5, 7]\n",
    "primes = list(odds)  # copy the list\n",
    "primes.append(2)\n",
    "print('primes:', primes)\n",
    "print('odds:', odds)"
   ]
  },
  {
   "cell_type": "code",
   "execution_count": 15,
   "id": "679892c1-5268-44ca-a172-532f233401b6",
   "metadata": {},
   "outputs": [
    {
     "name": "stdout",
     "output_type": "stream",
     "text": [
      "group: Drosophila\n",
      "species: melanogaster\n",
      "autosomes: ['2', '3', '4']\n",
      "last: 4\n"
     ]
    }
   ],
   "source": [
    "binomial_name = 'Drosophila melanogaster'\n",
    "group = binomial_name[0:10]  # accessed by specifying ranges of values in brackets\n",
    "print('group:', group)\n",
    "\n",
    "species = binomial_name[11:23]\n",
    "print('species:', species)\n",
    "\n",
    "chromosomes = ['X', 'Y', '2', '3', '4']\n",
    "autosomes = chromosomes[2:5]\n",
    "print('autosomes:', autosomes)\n",
    "\n",
    "last = chromosomes[-1]\n",
    "print('last:', last)"
   ]
  },
  {
   "cell_type": "code",
   "execution_count": 16,
   "id": "0b46693e-f4d1-46fb-ac58-a9068bc81823",
   "metadata": {},
   "outputs": [
    {
     "name": "stdout",
     "output_type": "stream",
     "text": [
      "subset [2, 7, 17, 29]\n"
     ]
    }
   ],
   "source": [
    "primes = [2, 3, 5, 7, 11, 13, 17, 19, 23, 29, 31, 37]\n",
    "subset = primes[0:12:3]  # step size: 3, Non-Continuous Slices or [::3]\n",
    "print('subset', subset) "
   ]
  },
  {
   "cell_type": "code",
   "execution_count": 17,
   "id": "961e0eb7-95cd-41e3-b2fd-16fdc8dbda61",
   "metadata": {},
   "outputs": [
    {
     "name": "stdout",
     "output_type": "stream",
     "text": [
      "[2, 4, 6, 8, 10, 2, 4, 6, 8, 10]\n"
     ]
    }
   ],
   "source": [
    "counts = [2, 4, 6, 8, 10]\n",
    "repeats = counts * 2  # *: concatenate = counts + counts\n",
    "print(repeats)"
   ]
  },
  {
   "cell_type": "code",
   "execution_count": 20,
   "id": "cdbf091c-7244-40f8-8c42-fe2d2c8f0ec4",
   "metadata": {},
   "outputs": [
    {
     "name": "stdout",
     "output_type": "stream",
     "text": [
      "2013\n",
      "[['chlorine', 'Cl'], ['bromine', 'Br'], ['iodine', 'I'], ['astatine', 'At']]\n"
     ]
    }
   ],
   "source": [
    "string_for_slicing = 'Observation date: 02-Feb-2013'\n",
    "list_for_slicing = [['fluorine', 'F'],\n",
    "                    ['chlorine', 'Cl'],\n",
    "                    ['bromine', 'Br'],\n",
    "                    ['iodine', 'I'],\n",
    "                    ['astatine', 'At']]\n",
    "\n",
    "print(string_for_slicing[-4:])  # count elements from the end\n",
    "print(list_for_slicing[-4:])"
   ]
  },
  {
   "cell_type": "code",
   "execution_count": null,
   "id": "ac465572-6079-4063-95df-2d77593d438a",
   "metadata": {},
   "outputs": [],
   "source": []
  }
 ],
 "metadata": {
  "kernelspec": {
   "display_name": "Python 3 (ipykernel)",
   "language": "python",
   "name": "python3"
  },
  "language_info": {
   "codemirror_mode": {
    "name": "ipython",
    "version": 3
   },
   "file_extension": ".py",
   "mimetype": "text/x-python",
   "name": "python",
   "nbconvert_exporter": "python",
   "pygments_lexer": "ipython3",
   "version": "3.9.12"
  }
 },
 "nbformat": 4,
 "nbformat_minor": 5
}
