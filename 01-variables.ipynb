{
 "cells": [
  {
   "cell_type": "markdown",
   "id": "a41416c6-1346-4338-9cb7-a3de0a4a6091",
   "metadata": {
    "tags": []
   },
   "source": [
    "# Variables\n"
   ]
  },
  {
   "cell_type": "code",
   "execution_count": 14,
   "id": "5a50b15c-6988-4bc3-ae61-3acb0d6d7b8c",
   "metadata": {},
   "outputs": [],
   "source": [
    "weight_kg = 55"
   ]
  },
  {
   "cell_type": "code",
   "execution_count": 15,
   "id": "5f0e4db3-9ddd-48ef-8e24-628e9f2dd65a",
   "metadata": {},
   "outputs": [
    {
     "name": "stdout",
     "output_type": "stream",
     "text": [
      "55\n"
     ]
    }
   ],
   "source": [
    "print(weight_kg)"
   ]
  },
  {
   "cell_type": "code",
   "execution_count": 16,
   "id": "399955e1-4695-438a-8884-ce0869dbdb09",
   "metadata": {},
   "outputs": [
    {
     "name": "stdout",
     "output_type": "stream",
     "text": [
      "weight in pounds 121.00000000000001\n"
     ]
    }
   ],
   "source": [
    "print(\"weight in pounds\", 2.2 * weight_kg)"
   ]
  },
  {
   "cell_type": "code",
   "execution_count": 17,
   "id": "3d2ffe9e-bcd6-4f59-8d5d-8d440a47a1a8",
   "metadata": {},
   "outputs": [
    {
     "name": "stdout",
     "output_type": "stream",
     "text": [
      "weight in kg: 55 and  in lb: 121.00000000000001\n"
     ]
    }
   ],
   "source": [
    "weight_lb = 2.2 * weight_kg\n",
    "print(\"weight in kg:\", weight_kg, \"and  in lb:\", weight_lb)"
   ]
  },
  {
   "cell_type": "code",
   "execution_count": 21,
   "id": "ce83c216-5b50-4319-ae9e-8160b55bb78e",
   "metadata": {},
   "outputs": [
    {
     "name": "stdout",
     "output_type": "stream",
     "text": [
      "weight in kg is now 100 and  in lb is now 121.00000000000001\n"
     ]
    }
   ],
   "source": [
    "weight_kg = 100\n",
    "print(\"weight in kg is now\", weight_kg, \"and  in lb is now\", weight_lb)"
   ]
  },
  {
   "cell_type": "code",
   "execution_count": null,
   "id": "3440da20-3b6c-4d8b-9aee-1454976d575e",
   "metadata": {},
   "outputs": [],
   "source": []
  }
 ],
 "metadata": {
  "kernelspec": {
   "display_name": "Python 3 (ipykernel)",
   "language": "python",
   "name": "python3"
  },
  "language_info": {
   "codemirror_mode": {
    "name": "ipython",
    "version": 3
   },
   "file_extension": ".py",
   "mimetype": "text/x-python",
   "name": "python",
   "nbconvert_exporter": "python",
   "pygments_lexer": "ipython3",
   "version": "3.9.12"
  }
 },
 "nbformat": 4,
 "nbformat_minor": 5
}
